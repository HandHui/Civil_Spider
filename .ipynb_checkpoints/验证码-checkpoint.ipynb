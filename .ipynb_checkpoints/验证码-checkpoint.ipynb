{
 "cells": [
  {
   "cell_type": "markdown",
   "metadata": {},
   "source": [
    "# 文字验证码"
   ]
  },
  {
   "cell_type": "markdown",
   "metadata": {},
   "source": [
    "## tessrtact-ocr"
   ]
  },
  {
   "cell_type": "code",
   "execution_count": 1,
   "metadata": {},
   "outputs": [],
   "source": [
    "try:\n",
    "    from PIL import Image\n",
    "except ImportError:\n",
    "    import Image\n",
    "import pytesseract"
   ]
  },
  {
   "cell_type": "code",
   "execution_count": 2,
   "metadata": {},
   "outputs": [],
   "source": [
    "# gif转png\n",
    "im = Image.open('checkcode.gif')\n",
    "def iter_frames(im):\n",
    "    try:\n",
    "        i= 0\n",
    "        while 1:\n",
    "            im.seek(i)\n",
    "            imframe = im.copy()\n",
    "            if i == 0:\n",
    "                palette = imframe.getpalette()\n",
    "            else:\n",
    "                imframe.putpalette(palette)\n",
    "            yield imframe\n",
    "            i += 1\n",
    "    except EOFError:\n",
    "        pass\n",
    "for i, frame in enumerate(iter_frames(im)):\n",
    "    frame.save('image.png',**frame.info)"
   ]
  },
  {
   "cell_type": "code",
   "execution_count": 3,
   "metadata": {},
   "outputs": [
    {
     "data": {
      "image/png": "[encoded data removed]",
      "text/plain": [
       "<PIL.PngImagePlugin.PngImageFile image mode=P size=63x22 at 0x260E0D21BE0>"
      ]
     },
     "execution_count": 3,
     "metadata": {},
     "output_type": "execute_result"
    }
   ],
   "source": [
    "# 加载图片\n",
    "img = Image.open('image.png')\n",
    "img"
   ]
  },
  {
   "cell_type": "code",
   "execution_count": 4,
   "metadata": {},
   "outputs": [
    {
     "data": {
      "text/plain": [
       "''"
      ]
     },
     "execution_count": 4,
     "metadata": {},
     "output_type": "execute_result"
    }
   ],
   "source": [
    "pytesseract.image_to_string(img)"
   ]
  },
  {
   "cell_type": "code",
   "execution_count": 5,
   "metadata": {},
   "outputs": [
    {
     "data": {
      "image/png": "[encoded data removed]",
      "text/plain": [
       "<PIL.Image.Image image mode=L size=63x22 at 0x260E0DD5710>"
      ]
     },
     "execution_count": 5,
     "metadata": {},
     "output_type": "execute_result"
    }
   ],
   "source": [
    "img = img.convert(\"L\")\n",
    "img"
   ]
  },
  {
   "cell_type": "code",
   "execution_count": 6,
   "metadata": {},
   "outputs": [],
   "source": [
    "pixdata = img.load()\n",
    "for y in range(img.size[1]):\n",
    "    for x in range(img.size[0]):\n",
    "        if x <= 5 or x >= 195 or y <= 5 or y >= 47:\n",
    "            pixdata[x, y] = 225\n",
    "        if pixdata[x, y] < 140:\n",
    "            pixdata[x, y] = 0\n",
    "        else:\n",
    "            pixdata[x, y] = 255"
   ]
  },
  {
   "cell_type": "code",
   "execution_count": 7,
   "metadata": {},
   "outputs": [
    {
     "data": {
      "image/png": "[encoded data removed]",
      "text/plain": [
       "<PIL.Image.Image image mode=L size=63x22 at 0x260E0DD5710>"
      ]
     },
     "execution_count": 7,
     "metadata": {},
     "output_type": "execute_result"
    }
   ],
   "source": [
    "img"
   ]
  },
  {
   "cell_type": "code",
   "execution_count": 8,
   "metadata": {},
   "outputs": [
    {
     "data": {
      "text/plain": [
       "'V8P4J::'"
      ]
     },
     "execution_count": 8,
     "metadata": {},
     "output_type": "execute_result"
    }
   ],
   "source": [
    "pytesseract.image_to_string(img)"
   ]
  },
  {
   "cell_type": "code",
   "execution_count": 9,
   "metadata": {},
   "outputs": [],
   "source": [
    "\"\"\"图片去除噪点\"\"\"\n",
    "pixdata = img.load()\n",
    "w, h = img.size\n",
    "for j in range(1, h - 1):\n",
    "\n",
    "    for i in range(1, w - 1):\n",
    "        count = 0\n",
    "        l = pixdata[i, j]\n",
    "        if l == pixdata[i, j - 1]:\n",
    "            count = count + 1\n",
    "        if l == pixdata[i, j + 1]:\n",
    "            count = count + 1\n",
    "        if l == pixdata[i + 1, j - 1]:\n",
    "            count = count + 1\n",
    "        if l == pixdata[i + 1, j + 1]:\n",
    "            count = count + 1\n",
    "        if l == pixdata[i + 1, j]:\n",
    "            count = count + 1\n",
    "        if l == pixdata[i - 1, j + 1]:\n",
    "            count = count + 1\n",
    "        if l == pixdata[i - 1, j - 1]:\n",
    "            count = count + 1\n",
    "        if l == pixdata[i - 1, j]:\n",
    "            count = count + 1\n",
    "        if count < 1:\n",
    "            pixdata[i, j] = 255"
   ]
  },
  {
   "cell_type": "code",
   "execution_count": 10,
   "metadata": {},
   "outputs": [
    {
     "data": {
      "image/png": "[encoded data removed]",
      "text/plain": [
       "<PIL.Image.Image image mode=L size=63x22 at 0x260E0DD5710>"
      ]
     },
     "execution_count": 10,
     "metadata": {},
     "output_type": "execute_result"
    }
   ],
   "source": [
    "img"
   ]
  },
  {
   "cell_type": "code",
   "execution_count": 11,
   "metadata": {},
   "outputs": [
    {
     "data": {
      "text/plain": [
       "'V8P4J °'"
      ]
     },
     "execution_count": 11,
     "metadata": {},
     "output_type": "execute_result"
    }
   ],
   "source": [
    "pytesseract.image_to_string(img)"
   ]
  },
  {
   "cell_type": "markdown",
   "metadata": {},
   "source": [
    "## 调用百度文字识别api"
   ]
  },
  {
   "cell_type": "code",
   "execution_count": 12,
   "metadata": {},
   "outputs": [],
   "source": [
    "from aip import AipOcr\n",
    "\n",
    "\"\"\" 你的 APPID AK SK （需要大规模使用的话，自己申请一个百度的appid）\"\"\"\n",
    "APP_ID = '16397894'\n",
    "API_KEY = 'Br3v7gxH303LcmeMELicHcEX'\n",
    "SECRET_KEY = 'mD6cgOxw64vmMNhOeyqusf9L9IGzYLDz'\n",
    "\n",
    "client = AipOcr(APP_ID, API_KEY, SECRET_KEY)"
   ]
  },
  {
   "cell_type": "code",
   "execution_count": 13,
   "metadata": {},
   "outputs": [],
   "source": [
    "\"\"\" 读取图片 \"\"\"\n",
    "def get_file_content(filePath):\n",
    "    with open(filePath, 'rb') as fp:\n",
    "        return fp.read()\n",
    "\n",
    "image = get_file_content('image.png')\n",
    "\n",
    "\"\"\" 调用通用文字识别, 图片参数为本地图片 \"\"\"\n",
    "result = client.basicGeneral(image)"
   ]
  },
  {
   "cell_type": "code",
   "execution_count": 14,
   "metadata": {},
   "outputs": [
    {
     "data": {
      "text/plain": [
       "{'log_id': 4675952773724300799,\n",
       " 'words_result_num': 1,\n",
       " 'words_result': [{'words': 'V8P4J'}]}"
      ]
     },
     "execution_count": 14,
     "metadata": {},
     "output_type": "execute_result"
    }
   ],
   "source": [
    "result"
   ]
  },
  {
   "cell_type": "markdown",
   "metadata": {},
   "source": [
    "# 滑动验证码自动识别展示"
   ]
  },
  {
   "cell_type": "code",
   "execution_count": 15,
   "metadata": {},
   "outputs": [
    {
     "name": "stdout",
     "output_type": "stream",
     "text": [
      "==================================\n",
      "==================================\n",
      "l= 73\n",
      "第一步,点击滑动按钮\n",
      "第二步,拖动元素\n",
      "第三步,释放鼠标\n",
      "识别错误，继续\n",
      "==================================\n",
      "==================================\n",
      "l= 150\n",
      "第一步,点击滑动按钮\n",
      "第二步,拖动元素\n",
      "第三步,释放鼠标\n",
      "识别错误，继续\n",
      "==================================\n",
      "==================================\n",
      "l= 150\n",
      "第一步,点击滑动按钮\n",
      "第二步,拖动元素\n",
      "第三步,释放鼠标\n",
      "识别错误，继续\n",
      "==================================\n",
      "==================================\n",
      "l= 150\n",
      "第一步,点击滑动按钮\n",
      "第二步,拖动元素\n",
      "第三步,释放鼠标\n",
      "识别错误，继续\n",
      "==================================\n",
      "==================================\n",
      "l= 150\n",
      "第一步,点击滑动按钮\n",
      "第二步,拖动元素\n",
      "第三步,释放鼠标\n"
     ]
    },
    {
     "ename": "WebDriverException",
     "evalue": "Message: chrome not reachable\n  (Session info: chrome=74.0.3729.169)\n  (Driver info: chromedriver=2.32.498550 (9dec58e66c31bcc53a9ce3c7226f0c1c5810906a),platform=Windows NT 10.0.17763 x86_64)\n",
     "output_type": "error",
     "traceback": [
      "\u001b[1;31m---------------------------------------------------------------------------\u001b[0m",
      "\u001b[1;31mWebDriverException\u001b[0m                        Traceback (most recent call last)",
      "\u001b[1;32m<ipython-input-15-75e45a5c309e>\u001b[0m in \u001b[0;36m<module>\u001b[1;34m\u001b[0m\n\u001b[0;32m    221\u001b[0m                 \u001b[1;31m# 得到成功标志\u001b[0m\u001b[1;33m\u001b[0m\u001b[1;33m\u001b[0m\u001b[1;33m\u001b[0m\u001b[0m\n\u001b[1;32m--> 222\u001b[1;33m                 \u001b[0mprint\u001b[0m\u001b[1;33m(\u001b[0m\u001b[1;34m'suc='\u001b[0m\u001b[1;33m,\u001b[0m\u001b[0mdriver\u001b[0m\u001b[1;33m.\u001b[0m\u001b[0mfind_element_by_css_selector\u001b[0m\u001b[1;33m(\u001b[0m\u001b[1;34m'.gt_holder .gt_ajax_tip.gt_success'\u001b[0m\u001b[1;33m)\u001b[0m\u001b[1;33m)\u001b[0m\u001b[1;33m\u001b[0m\u001b[1;33m\u001b[0m\u001b[0m\n\u001b[0m\u001b[0;32m    223\u001b[0m                 \u001b[0msuccess_images\u001b[0m \u001b[1;33m=\u001b[0m \u001b[0mWebDriverWait\u001b[0m\u001b[1;33m(\u001b[0m\u001b[0mdriver\u001b[0m\u001b[1;33m,\u001b[0m \u001b[1;36m20\u001b[0m\u001b[1;33m)\u001b[0m\u001b[1;33m.\u001b[0m\u001b[0muntil\u001b[0m\u001b[1;33m(\u001b[0m\u001b[0mEC\u001b[0m\u001b[1;33m.\u001b[0m\u001b[0mpresence_of_element_located\u001b[0m\u001b[1;33m(\u001b[0m\u001b[0msuccess_element\u001b[0m\u001b[1;33m)\u001b[0m\u001b[1;33m)\u001b[0m\u001b[1;33m\u001b[0m\u001b[1;33m\u001b[0m\u001b[0m\n",
      "\u001b[1;32mD:\\Anaconda\\lib\\site-packages\\selenium\\webdriver\\remote\\webdriver.py\u001b[0m in \u001b[0;36mfind_element_by_css_selector\u001b[1;34m(self, css_selector)\u001b[0m\n\u001b[0;32m    597\u001b[0m         \"\"\"\n\u001b[1;32m--> 598\u001b[1;33m         \u001b[1;32mreturn\u001b[0m \u001b[0mself\u001b[0m\u001b[1;33m.\u001b[0m\u001b[0mfind_element\u001b[0m\u001b[1;33m(\u001b[0m\u001b[0mby\u001b[0m\u001b[1;33m=\u001b[0m\u001b[0mBy\u001b[0m\u001b[1;33m.\u001b[0m\u001b[0mCSS_SELECTOR\u001b[0m\u001b[1;33m,\u001b[0m \u001b[0mvalue\u001b[0m\u001b[1;33m=\u001b[0m\u001b[0mcss_selector\u001b[0m\u001b[1;33m)\u001b[0m\u001b[1;33m\u001b[0m\u001b[1;33m\u001b[0m\u001b[0m\n\u001b[0m\u001b[0;32m    599\u001b[0m \u001b[1;33m\u001b[0m\u001b[0m\n",
      "\u001b[1;32mD:\\Anaconda\\lib\\site-packages\\selenium\\webdriver\\remote\\webdriver.py\u001b[0m in \u001b[0;36mfind_element\u001b[1;34m(self, by, value)\u001b[0m\n\u001b[0;32m    977\u001b[0m             \u001b[1;34m'using'\u001b[0m\u001b[1;33m:\u001b[0m \u001b[0mby\u001b[0m\u001b[1;33m,\u001b[0m\u001b[1;33m\u001b[0m\u001b[1;33m\u001b[0m\u001b[0m\n\u001b[1;32m--> 978\u001b[1;33m             'value': value})['value']\n\u001b[0m\u001b[0;32m    979\u001b[0m \u001b[1;33m\u001b[0m\u001b[0m\n",
      "\u001b[1;32mD:\\Anaconda\\lib\\site-packages\\selenium\\webdriver\\remote\\webdriver.py\u001b[0m in \u001b[0;36mexecute\u001b[1;34m(self, driver_command, params)\u001b[0m\n\u001b[0;32m    320\u001b[0m         \u001b[1;32mif\u001b[0m \u001b[0mresponse\u001b[0m\u001b[1;33m:\u001b[0m\u001b[1;33m\u001b[0m\u001b[1;33m\u001b[0m\u001b[0m\n\u001b[1;32m--> 321\u001b[1;33m             \u001b[0mself\u001b[0m\u001b[1;33m.\u001b[0m\u001b[0merror_handler\u001b[0m\u001b[1;33m.\u001b[0m\u001b[0mcheck_response\u001b[0m\u001b[1;33m(\u001b[0m\u001b[0mresponse\u001b[0m\u001b[1;33m)\u001b[0m\u001b[1;33m\u001b[0m\u001b[1;33m\u001b[0m\u001b[0m\n\u001b[0m\u001b[0;32m    322\u001b[0m             response['value'] = self._unwrap_value(\n",
      "\u001b[1;32mD:\\Anaconda\\lib\\site-packages\\selenium\\webdriver\\remote\\errorhandler.py\u001b[0m in \u001b[0;36mcheck_response\u001b[1;34m(self, response)\u001b[0m\n\u001b[0;32m    241\u001b[0m             \u001b[1;32mraise\u001b[0m \u001b[0mexception_class\u001b[0m\u001b[1;33m(\u001b[0m\u001b[0mmessage\u001b[0m\u001b[1;33m,\u001b[0m \u001b[0mscreen\u001b[0m\u001b[1;33m,\u001b[0m \u001b[0mstacktrace\u001b[0m\u001b[1;33m,\u001b[0m \u001b[0malert_text\u001b[0m\u001b[1;33m)\u001b[0m\u001b[1;33m\u001b[0m\u001b[1;33m\u001b[0m\u001b[0m\n\u001b[1;32m--> 242\u001b[1;33m         \u001b[1;32mraise\u001b[0m \u001b[0mexception_class\u001b[0m\u001b[1;33m(\u001b[0m\u001b[0mmessage\u001b[0m\u001b[1;33m,\u001b[0m \u001b[0mscreen\u001b[0m\u001b[1;33m,\u001b[0m \u001b[0mstacktrace\u001b[0m\u001b[1;33m)\u001b[0m\u001b[1;33m\u001b[0m\u001b[1;33m\u001b[0m\u001b[0m\n\u001b[0m\u001b[0;32m    243\u001b[0m \u001b[1;33m\u001b[0m\u001b[0m\n",
      "\u001b[1;31mWebDriverException\u001b[0m: Message: chrome not reachable\n  (Session info: chrome=74.0.3729.169)\n  (Driver info: chromedriver=2.32.498550 (9dec58e66c31bcc53a9ce3c7226f0c1c5810906a),platform=Windows NT 10.0.17763 x86_64)\n",
      "\nDuring handling of the above exception, another exception occurred:\n",
      "\u001b[1;31mWebDriverException\u001b[0m                        Traceback (most recent call last)",
      "\u001b[1;32m<ipython-input-15-75e45a5c309e>\u001b[0m in \u001b[0;36m<module>\u001b[1;34m\u001b[0m\n\u001b[0;32m    234\u001b[0m             \u001b[0mexit\u001b[0m\u001b[1;33m(\u001b[0m\u001b[1;34m'退出程序'\u001b[0m\u001b[1;33m)\u001b[0m\u001b[1;33m\u001b[0m\u001b[1;33m\u001b[0m\u001b[0m\n\u001b[0;32m    235\u001b[0m     \u001b[1;32mfinally\u001b[0m\u001b[1;33m:\u001b[0m\u001b[1;33m\u001b[0m\u001b[1;33m\u001b[0m\u001b[0m\n\u001b[1;32m--> 236\u001b[1;33m         \u001b[0mdriver\u001b[0m\u001b[1;33m.\u001b[0m\u001b[0mclose\u001b[0m\u001b[1;33m(\u001b[0m\u001b[1;33m)\u001b[0m\u001b[1;33m\u001b[0m\u001b[1;33m\u001b[0m\u001b[0m\n\u001b[0m",
      "\u001b[1;32mD:\\Anaconda\\lib\\site-packages\\selenium\\webdriver\\remote\\webdriver.py\u001b[0m in \u001b[0;36mclose\u001b[1;34m(self)\u001b[0m\n\u001b[0;32m    686\u001b[0m             \u001b[0mdriver\u001b[0m\u001b[1;33m.\u001b[0m\u001b[0mclose\u001b[0m\u001b[1;33m(\u001b[0m\u001b[1;33m)\u001b[0m\u001b[1;33m\u001b[0m\u001b[1;33m\u001b[0m\u001b[0m\n\u001b[0;32m    687\u001b[0m         \"\"\"\n\u001b[1;32m--> 688\u001b[1;33m         \u001b[0mself\u001b[0m\u001b[1;33m.\u001b[0m\u001b[0mexecute\u001b[0m\u001b[1;33m(\u001b[0m\u001b[0mCommand\u001b[0m\u001b[1;33m.\u001b[0m\u001b[0mCLOSE\u001b[0m\u001b[1;33m)\u001b[0m\u001b[1;33m\u001b[0m\u001b[1;33m\u001b[0m\u001b[0m\n\u001b[0m\u001b[0;32m    689\u001b[0m \u001b[1;33m\u001b[0m\u001b[0m\n\u001b[0;32m    690\u001b[0m     \u001b[1;32mdef\u001b[0m \u001b[0mquit\u001b[0m\u001b[1;33m(\u001b[0m\u001b[0mself\u001b[0m\u001b[1;33m)\u001b[0m\u001b[1;33m:\u001b[0m\u001b[1;33m\u001b[0m\u001b[1;33m\u001b[0m\u001b[0m\n",
      "\u001b[1;32mD:\\Anaconda\\lib\\site-packages\\selenium\\webdriver\\remote\\webdriver.py\u001b[0m in \u001b[0;36mexecute\u001b[1;34m(self, driver_command, params)\u001b[0m\n\u001b[0;32m    319\u001b[0m         \u001b[0mresponse\u001b[0m \u001b[1;33m=\u001b[0m \u001b[0mself\u001b[0m\u001b[1;33m.\u001b[0m\u001b[0mcommand_executor\u001b[0m\u001b[1;33m.\u001b[0m\u001b[0mexecute\u001b[0m\u001b[1;33m(\u001b[0m\u001b[0mdriver_command\u001b[0m\u001b[1;33m,\u001b[0m \u001b[0mparams\u001b[0m\u001b[1;33m)\u001b[0m\u001b[1;33m\u001b[0m\u001b[1;33m\u001b[0m\u001b[0m\n\u001b[0;32m    320\u001b[0m         \u001b[1;32mif\u001b[0m \u001b[0mresponse\u001b[0m\u001b[1;33m:\u001b[0m\u001b[1;33m\u001b[0m\u001b[1;33m\u001b[0m\u001b[0m\n\u001b[1;32m--> 321\u001b[1;33m             \u001b[0mself\u001b[0m\u001b[1;33m.\u001b[0m\u001b[0merror_handler\u001b[0m\u001b[1;33m.\u001b[0m\u001b[0mcheck_response\u001b[0m\u001b[1;33m(\u001b[0m\u001b[0mresponse\u001b[0m\u001b[1;33m)\u001b[0m\u001b[1;33m\u001b[0m\u001b[1;33m\u001b[0m\u001b[0m\n\u001b[0m\u001b[0;32m    322\u001b[0m             response['value'] = self._unwrap_value(\n\u001b[0;32m    323\u001b[0m                 response.get('value', None))\n",
      "\u001b[1;32mD:\\Anaconda\\lib\\site-packages\\selenium\\webdriver\\remote\\errorhandler.py\u001b[0m in \u001b[0;36mcheck_response\u001b[1;34m(self, response)\u001b[0m\n\u001b[0;32m    240\u001b[0m                 \u001b[0malert_text\u001b[0m \u001b[1;33m=\u001b[0m \u001b[0mvalue\u001b[0m\u001b[1;33m[\u001b[0m\u001b[1;34m'alert'\u001b[0m\u001b[1;33m]\u001b[0m\u001b[1;33m.\u001b[0m\u001b[0mget\u001b[0m\u001b[1;33m(\u001b[0m\u001b[1;34m'text'\u001b[0m\u001b[1;33m)\u001b[0m\u001b[1;33m\u001b[0m\u001b[1;33m\u001b[0m\u001b[0m\n\u001b[0;32m    241\u001b[0m             \u001b[1;32mraise\u001b[0m \u001b[0mexception_class\u001b[0m\u001b[1;33m(\u001b[0m\u001b[0mmessage\u001b[0m\u001b[1;33m,\u001b[0m \u001b[0mscreen\u001b[0m\u001b[1;33m,\u001b[0m \u001b[0mstacktrace\u001b[0m\u001b[1;33m,\u001b[0m \u001b[0malert_text\u001b[0m\u001b[1;33m)\u001b[0m\u001b[1;33m\u001b[0m\u001b[1;33m\u001b[0m\u001b[0m\n\u001b[1;32m--> 242\u001b[1;33m         \u001b[1;32mraise\u001b[0m \u001b[0mexception_class\u001b[0m\u001b[1;33m(\u001b[0m\u001b[0mmessage\u001b[0m\u001b[1;33m,\u001b[0m \u001b[0mscreen\u001b[0m\u001b[1;33m,\u001b[0m \u001b[0mstacktrace\u001b[0m\u001b[1;33m)\u001b[0m\u001b[1;33m\u001b[0m\u001b[1;33m\u001b[0m\u001b[0m\n\u001b[0m\u001b[0;32m    243\u001b[0m \u001b[1;33m\u001b[0m\u001b[0m\n\u001b[0;32m    244\u001b[0m     \u001b[1;32mdef\u001b[0m \u001b[0m_value_or_default\u001b[0m\u001b[1;33m(\u001b[0m\u001b[0mself\u001b[0m\u001b[1;33m,\u001b[0m \u001b[0mobj\u001b[0m\u001b[1;33m,\u001b[0m \u001b[0mkey\u001b[0m\u001b[1;33m,\u001b[0m \u001b[0mdefault\u001b[0m\u001b[1;33m)\u001b[0m\u001b[1;33m:\u001b[0m\u001b[1;33m\u001b[0m\u001b[1;33m\u001b[0m\u001b[0m\n",
      "\u001b[1;31mWebDriverException\u001b[0m: Message: chrome not reachable\n  (Session info: chrome=74.0.3729.169)\n  (Driver info: chromedriver=2.32.498550 (9dec58e66c31bcc53a9ce3c7226f0c1c5810906a),platform=Windows NT 10.0.17763 x86_64)\n"
     ]
    }
   ],
   "source": [
    "from selenium import webdriver\n",
    "from selenium.webdriver.support.ui import WebDriverWait # 等待元素加载的\n",
    "from selenium.webdriver.common.action_chains import ActionChains  #拖拽\n",
    "from selenium.webdriver.support import expected_conditions as EC\n",
    "from selenium.common.exceptions import TimeoutException, NoSuchElementException\n",
    "from selenium.webdriver.common.by import By\n",
    "from PIL import Image\n",
    "import requests\n",
    "import time\n",
    "import re\n",
    "import random\n",
    "from io import BytesIO\n",
    "\n",
    "\n",
    "def merge_image(image_file,location_list):\n",
    "    \"\"\"\n",
    "     拼接图片\n",
    "    :param image_file:\n",
    "    :param location_list:\n",
    "    :return:\n",
    "    \"\"\"\n",
    "    im = Image.open(image_file)\n",
    "    im.save('code.jpg')\n",
    "    new_im = Image.new('RGB',(260,116))\n",
    "    # 把无序的图片 切成52张小图片\n",
    "    im_list_upper = []\n",
    "    im_list_down = []\n",
    "    # print(location_list)\n",
    "    for location in location_list:\n",
    "        # print(location['y'])\n",
    "        if location['y'] == -58: # 上半边\n",
    "            im_list_upper.append(im.crop((abs(location['x']),58,abs(location['x'])+10,116)))\n",
    "        if location['y'] == 0:  # 下半边\n",
    "            im_list_down.append(im.crop((abs(location['x']),0,abs(location['x'])+10,58)))\n",
    "\n",
    "    x_offset = 0\n",
    "    for im in im_list_upper:\n",
    "        new_im.paste(im,(x_offset,0))  # 把小图片放到 新的空白图片上\n",
    "        x_offset += im.size[0]\n",
    "\n",
    "    x_offset = 0\n",
    "    for im in im_list_down:\n",
    "        new_im.paste(im,(x_offset,58))\n",
    "        x_offset += im.size[0]\n",
    "    new_im.show()\n",
    "    return new_im\n",
    "\n",
    "def get_image(driver,div_path):\n",
    "    '''\n",
    "    下载无序的图片  然后进行拼接 获得完整的图片\n",
    "    :param driver:\n",
    "    :param div_path:\n",
    "    :return:\n",
    "    '''\n",
    "    time.sleep(2)\n",
    "    background_images = driver.find_elements_by_xpath(div_path)\n",
    "    location_list = []\n",
    "    for background_image in background_images:\n",
    "        location = {}\n",
    "        result = re.findall('background-image: url\\(\"(.*?)\"\\); background-position: (.*?)px (.*?)px;',background_image.get_attribute('style'))\n",
    "        # print(result)\n",
    "        location['x'] = int(result[0][1])\n",
    "        location['y'] = int(result[0][2])\n",
    "\n",
    "        image_url = result[0][0]\n",
    "        location_list.append(location)\n",
    "\n",
    "    print('==================================')\n",
    "    image_url = image_url.replace('webp','jpg')\n",
    "    # '替换url http://static.geetest.com/pictures/gt/579066de6/579066de6.webp'\n",
    "    image_result = requests.get(image_url).content\n",
    "    # with open('1.jpg','wb') as f:\n",
    "    #     f.write(image_result)\n",
    "    image_file = BytesIO(image_result) # 是一张无序的图片\n",
    "    image = merge_image(image_file,location_list)\n",
    "\n",
    "    return image\n",
    "\n",
    "def get_track(distance):\n",
    "    '''\n",
    "    拿到移动轨迹，模仿人的滑动行为，先匀加速后匀减速\n",
    "    匀变速运动基本公式：\n",
    "    ①v=v0+at\n",
    "    ②s=v0t+(1/2)at²\n",
    "    ③v²-v0²=2as\n",
    "\n",
    "    :param distance: 需要移动的距离\n",
    "    :return: 存放每0.2秒移动的距离\n",
    "    '''\n",
    "    # 初速度\n",
    "    v=0\n",
    "    # 单位时间为0.2s来统计轨迹，轨迹即0.2内的位移\n",
    "    t=0.4\n",
    "    # 位移/轨迹列表，列表内的一个元素代表0.2s的位移\n",
    "    tracks=[]\n",
    "    # 当前的位移\n",
    "    current=0\n",
    "    # 到达mid值开始减速\n",
    "    mid=distance * 7/8\n",
    "\n",
    "#     distance += 10  # 先滑过一点，最后再反着滑动回来\n",
    "    # a = random.randint(1,3)\n",
    "    while current < distance:\n",
    "        if current < mid:\n",
    "            # 加速度越小，单位时间的位移越小,模拟的轨迹就越多越详细\n",
    "            a = random.randint(1,2)  # 加速运动\n",
    "        else:\n",
    "            a = -random.randint(2,3) # 减速运动\n",
    "\n",
    "        # 初速度\n",
    "        v0 = v\n",
    "        # 0.2秒时间内的位移\n",
    "        s = v0*t+0.5*a*(t**2)\n",
    "        # 当前的位置\n",
    "        current += s\n",
    "        # 添加到轨迹列表\n",
    "        tracks.append(round(s))\n",
    "\n",
    "        # 速度已经达到v,该速度作为下次的初速度\n",
    "        v= v0+a*t\n",
    "\n",
    "    # 反着滑动到大概准确位置\n",
    "#     for i in range(4):\n",
    "#         tracks.append(-random.randint(2,3))\n",
    "#     for i in range(4):\n",
    "#         tracks.append(-random.randint(1,3))\n",
    "    return tracks\n",
    "\n",
    "\n",
    "def get_distance(image1,image2):\n",
    "    '''\n",
    "      拿到滑动验证码需要移动的距离\n",
    "      :param image1:没有缺口的图片对象\n",
    "      :param image2:带缺口的图片对象\n",
    "      :return:需要移动的距离\n",
    "      '''\n",
    "    # print('size', image1.size)\n",
    "\n",
    "    threshold = 50\n",
    "    for i in range(0,image1.size[0]):  # 260\n",
    "        for j in range(0,image1.size[1]):  # 160\n",
    "            pixel1 = image1.getpixel((i,j))\n",
    "            pixel2 = image2.getpixel((i,j))\n",
    "            res_R = abs(pixel1[0]-pixel2[0]) # 计算RGB差\n",
    "            res_G = abs(pixel1[1] - pixel2[1])  # 计算RGB差\n",
    "            res_B = abs(pixel1[2] - pixel2[2])  # 计算RGB差\n",
    "            if res_R > threshold and res_G > threshold and res_B > threshold:\n",
    "                return i  # 需要移动的距离\n",
    "\n",
    "\n",
    "\n",
    "def main_check_code(driver, element):\n",
    "    \"\"\"\n",
    "     拖动识别验证码\n",
    "    :param driver: \n",
    "    :param element: \n",
    "    :return: \n",
    "    \"\"\"\n",
    "    image1 = get_image(driver, '//div[@class=\"gt_cut_bg gt_show\"]/div')\n",
    "    image2 = get_image(driver, '//div[@class=\"gt_cut_fullbg gt_show\"]/div')\n",
    "    # 图片上 缺口的位置的x坐标\n",
    "\n",
    "    # 2 对比两张图片的所有RBG像素点，得到不一样像素点的x值，即要移动的距离\n",
    "    l = get_distance(image1, image2)\n",
    "    print('l=',l)\n",
    "    # 3 获得移动轨迹\n",
    "    track_list = get_track(l)\n",
    "    print('第一步,点击滑动按钮')\n",
    "    ActionChains(driver).click_and_hold(on_element=element).perform()  # 点击鼠标左键，按住不放\n",
    "    time.sleep(1)\n",
    "    print('第二步,拖动元素')\n",
    "    for track in track_list:\n",
    "        ActionChains(driver).move_by_offset(xoffset=track, yoffset=0).perform()  # 鼠标移动到距离当前位置（x,y）\n",
    "        time.sleep(0.002)\n",
    "    # if l>100:\n",
    "\n",
    "    ActionChains(driver).move_by_offset(xoffset=-random.randint(2,5), yoffset=0).perform()\n",
    "    time.sleep(1)\n",
    "    print('第三步,释放鼠标')\n",
    "    ActionChains(driver).release(on_element=element).perform()\n",
    "    time.sleep(5)\n",
    "\n",
    "\n",
    "def main_check_slider(driver):\n",
    "    \"\"\"\n",
    "    检查滑动按钮是否加载\n",
    "    :param driver: \n",
    "    :return: \n",
    "    \"\"\"\n",
    "    while True:\n",
    "        try :\n",
    "            driver.get('http://www.cnbaowen.net/api/geetest/')\n",
    "            element = WebDriverWait(driver, 30, 0.5).until(EC.element_to_be_clickable((By.CLASS_NAME, 'gt_slider_knob')))\n",
    "            if element:\n",
    "                return element\n",
    "        except TimeoutException as e:\n",
    "            print('超时错误，继续')\n",
    "            time.sleep(5)\n",
    "\n",
    "\n",
    "if __name__ == '__main__':\n",
    "    try:\n",
    "        count = 10  # 最多识别10次\n",
    "        driver = webdriver.Chrome()\n",
    "        handles = driver.window_handles\n",
    "        for handle in handles:\n",
    "            chandle=driver.current_window_handle\n",
    "            if handle != driver.current_window_handle:\n",
    "                # driver.close()\n",
    "                driver.switch_to.window(handle)\n",
    "                if driver.current_url == 'data:,':\n",
    "                    driver.close()\n",
    "                driver.switch_to.window(chandle)\n",
    "        # 等待滑动按钮加载完成\n",
    "        element = main_check_slider(driver)\n",
    "        while count > 0:\n",
    "            main_check_code(driver,element)\n",
    "            time.sleep(2)\n",
    "            try:\n",
    "                success_element = (By.CSS_SELECTOR, '.gt_holder .gt_ajax_tip.gt_success')\n",
    "                # 得到成功标志\n",
    "                print('suc=',driver.find_element_by_css_selector('.gt_holder .gt_ajax_tip.gt_success'))\n",
    "                success_images = WebDriverWait(driver, 20).until(EC.presence_of_element_located(success_element))\n",
    "                if success_images:\n",
    "                    print('成功识别！！！！！！')\n",
    "                    count = 0\n",
    "                    break\n",
    "            except NoSuchElementException as e:\n",
    "                print('识别错误，继续')\n",
    "                count -= 1\n",
    "                time.sleep(2)\n",
    "        else:\n",
    "            print('too many attempt check code ')\n",
    "            exit('退出程序')\n",
    "    finally:\n",
    "        driver.close()"
   ]
  },
  {
   "cell_type": "code",
   "execution_count": null,
   "metadata": {},
   "outputs": [],
   "source": []
  }
 ],
 "metadata": {
  "kernelspec": {
   "display_name": "Python 3",
   "language": "python",
   "name": "python3"
  },
  "language_info": {
   "codemirror_mode": {
    "name": "ipython",
    "version": 3
   },
   "file_extension": ".py",
   "mimetype": "text/x-python",
   "name": "python",
   "nbconvert_exporter": "python",
   "pygments_lexer": "ipython3",
   "version": "3.5.2"
  }
 },
 "nbformat": 4,
 "nbformat_minor": 2
}
